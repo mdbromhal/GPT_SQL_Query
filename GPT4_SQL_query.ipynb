{
  "nbformat": 4,
  "nbformat_minor": 0,
  "metadata": {
    "colab": {
      "provenance": []
    },
    "kernelspec": {
      "name": "python3",
      "display_name": "Python 3"
    },
    "language_info": {
      "name": "python"
    }
  },
  "cells": [
    {
      "cell_type": "markdown",
      "source": [
        "[Source](https://https://ebookcentral.proquest.com/lib/uncw/reader.action?docID=30722783&ppg=13)"
      ],
      "metadata": {
        "id": "BoRbrjuN6gIj"
      }
    },
    {
      "cell_type": "code",
      "source": [
        "!pip install openai"
      ],
      "metadata": {
        "id": "4GoVzhwY0eGb",
        "colab": {
          "base_uri": "https://localhost:8080/"
        },
        "outputId": "eba9e66d-7352-4122-e4e1-d94c0f6cc6c4"
      },
      "execution_count": null,
      "outputs": [
        {
          "output_type": "stream",
          "name": "stdout",
          "text": [
            "Collecting openai\n",
            "  Downloading openai-1.23.3-py3-none-any.whl (311 kB)\n",
            "\u001b[2K     \u001b[90m━━━━━━━━━━━━━━━━━━━━━━━━━━━━━━━━━━━━━━━━\u001b[0m \u001b[32m311.5/311.5 kB\u001b[0m \u001b[31m2.0 MB/s\u001b[0m eta \u001b[36m0:00:00\u001b[0m\n",
            "\u001b[?25hRequirement already satisfied: anyio<5,>=3.5.0 in /usr/local/lib/python3.10/dist-packages (from openai) (3.7.1)\n",
            "Requirement already satisfied: distro<2,>=1.7.0 in /usr/lib/python3/dist-packages (from openai) (1.7.0)\n",
            "Collecting httpx<1,>=0.23.0 (from openai)\n",
            "  Downloading httpx-0.27.0-py3-none-any.whl (75 kB)\n",
            "\u001b[2K     \u001b[90m━━━━━━━━━━━━━━━━━━━━━━━━━━━━━━━━━━━━━━━━\u001b[0m \u001b[32m75.6/75.6 kB\u001b[0m \u001b[31m4.9 MB/s\u001b[0m eta \u001b[36m0:00:00\u001b[0m\n",
            "\u001b[?25hRequirement already satisfied: pydantic<3,>=1.9.0 in /usr/local/lib/python3.10/dist-packages (from openai) (2.7.0)\n",
            "Requirement already satisfied: sniffio in /usr/local/lib/python3.10/dist-packages (from openai) (1.3.1)\n",
            "Requirement already satisfied: tqdm>4 in /usr/local/lib/python3.10/dist-packages (from openai) (4.66.2)\n",
            "Requirement already satisfied: typing-extensions<5,>=4.7 in /usr/local/lib/python3.10/dist-packages (from openai) (4.11.0)\n",
            "Requirement already satisfied: idna>=2.8 in /usr/local/lib/python3.10/dist-packages (from anyio<5,>=3.5.0->openai) (3.7)\n",
            "Requirement already satisfied: exceptiongroup in /usr/local/lib/python3.10/dist-packages (from anyio<5,>=3.5.0->openai) (1.2.1)\n",
            "Requirement already satisfied: certifi in /usr/local/lib/python3.10/dist-packages (from httpx<1,>=0.23.0->openai) (2024.2.2)\n",
            "Collecting httpcore==1.* (from httpx<1,>=0.23.0->openai)\n",
            "  Downloading httpcore-1.0.5-py3-none-any.whl (77 kB)\n",
            "\u001b[2K     \u001b[90m━━━━━━━━━━━━━━━━━━━━━━━━━━━━━━━━━━━━━━━━\u001b[0m \u001b[32m77.9/77.9 kB\u001b[0m \u001b[31m5.1 MB/s\u001b[0m eta \u001b[36m0:00:00\u001b[0m\n",
            "\u001b[?25hCollecting h11<0.15,>=0.13 (from httpcore==1.*->httpx<1,>=0.23.0->openai)\n",
            "  Downloading h11-0.14.0-py3-none-any.whl (58 kB)\n",
            "\u001b[2K     \u001b[90m━━━━━━━━━━━━━━━━━━━━━━━━━━━━━━━━━━━━━━━━\u001b[0m \u001b[32m58.3/58.3 kB\u001b[0m \u001b[31m3.7 MB/s\u001b[0m eta \u001b[36m0:00:00\u001b[0m\n",
            "\u001b[?25hRequirement already satisfied: annotated-types>=0.4.0 in /usr/local/lib/python3.10/dist-packages (from pydantic<3,>=1.9.0->openai) (0.6.0)\n",
            "Requirement already satisfied: pydantic-core==2.18.1 in /usr/local/lib/python3.10/dist-packages (from pydantic<3,>=1.9.0->openai) (2.18.1)\n",
            "Installing collected packages: h11, httpcore, httpx, openai\n",
            "Successfully installed h11-0.14.0 httpcore-1.0.5 httpx-0.27.0 openai-1.23.3\n"
          ]
        }
      ]
    },
    {
      "cell_type": "code",
      "source": [
        "!pip install json"
      ],
      "metadata": {
        "colab": {
          "base_uri": "https://localhost:8080/"
        },
        "id": "dmX3SGbV2OLm",
        "outputId": "87fa1eb7-10ce-49af-d3df-fa5ee314030c"
      },
      "execution_count": null,
      "outputs": [
        {
          "output_type": "stream",
          "name": "stdout",
          "text": [
            "\u001b[31mERROR: Could not find a version that satisfies the requirement json (from versions: none)\u001b[0m\u001b[31m\n",
            "\u001b[0m\u001b[31mERROR: No matching distribution found for json\u001b[0m\u001b[31m\n",
            "\u001b[0m"
          ]
        }
      ]
    },
    {
      "cell_type": "code",
      "execution_count": null,
      "metadata": {
        "colab": {
          "base_uri": "https://localhost:8080/"
        },
        "id": "gOKCVl6mz3wH",
        "outputId": "1c457a00-216e-42dc-fd1a-0f39d68ce23e"
      },
      "outputs": [
        {
          "output_type": "stream",
          "name": "stdout",
          "text": [
            "Hello! How can I assist you today?\n"
          ]
        }
      ],
      "source": [
        "import os\n",
        "from openai import OpenAI\n",
        "os.environ[\"OPENAI_API_KEY\"] =\"API_KEY\" # Add your API Key here :)\n",
        "\n",
        "\n",
        "from openai import OpenAI\n",
        "\n",
        "client = OpenAI()\n",
        "\n",
        "# Make sure the environment variable OPENAI_API_KEY is set.\n",
        "\n",
        "# Call the openai ChatCompletion endpoint, with th ChatGPT model\n",
        "response = client.chat.completions.create(model=\"gpt-3.5-turbo\",\n",
        "messages=[\n",
        "      {\"role\": \"user\", \"content\": \"Hello World!\"}\n",
        "  ])\n",
        "\n",
        "# Extract the response\n",
        "print(response.choices[0].message.content)"
      ]
    },
    {
      "cell_type": "code",
      "source": [
        "import json"
      ],
      "metadata": {
        "id": "Dm1wo_Df2gY5"
      },
      "execution_count": null,
      "outputs": []
    },
    {
      "cell_type": "code",
      "source": [
        "def find_product(sql_query):\n",
        "    # Execute query here\n",
        "    results = [\n",
        "        {\"name\": \"pen\", \"color\": \"blue\", \"price\": 2.99}, # Dictionary, json database\n",
        "        {\"name\": \"pencil\", \"color\": \"purple\", \"price\": 1.99},\n",
        "        {\"name\": \"tape\", \"color\": \"light blue\", \"price\": 5.99},\n",
        "        {\"name\": \"nickel\", \"color\": \"silver\", \"price\": 0.05}\n",
        "    ]\n",
        "    return results\n",
        "\n",
        "\n",
        "function_find_product = {\n",
        "    # Gets a list of products with an SQL query\n",
        "        \"name\": \"find_product\",\n",
        "        \"description\": \"Get a list of products from a sql query\",\n",
        "        \"parameters\": {\n",
        "            \"type\": \"object\",\n",
        "            \"properties\": {\n",
        "                \"sql_query\": {\n",
        "                    \"type\": \"string\",\n",
        "                    \"description\": \"A SQL query\",\n",
        "                }\n",
        "            },\n",
        "            \"required\": [\"sql_query\"],\n",
        "        },\n",
        "    }\n",
        "\n",
        "\n",
        "\n",
        "def run(user_question):\n",
        "    # Send the question and available functions to GPT\n",
        "    messages = [{\"role\": \"user\", \"content\": user_question}]\n",
        "\n",
        "    # Here, we're providing the function name\n",
        "    # Previously, we have used prompts to ask the chatbot for a response\n",
        "    response = client.chat.completions.create(model=\"gpt-3.5-turbo-0613\", messages=messages, tools=[{\"type\": \"function\", \"function\": function_find_product }])\n",
        "    response_message = response.choices[0].message # Sending message to client\n",
        "\n",
        "    # Append the assistant's response to the messages\n",
        "    messages.append(response_message) # This is the model's message\n",
        "\n",
        "\n",
        "    # Call the function and add the results to the messages\n",
        "    function_name = response_message.tool_calls[0].function.name\n",
        "    if function_name == \"find_product\":\n",
        "        function_args = json.loads(\n",
        "            response_message.tool_calls[0].function.arguments\n",
        "        )\n",
        "        products = find_product(function_args.get(\"sql_query\")) # Running an SQL query in the background\n",
        "        print(function_args.get('sql_query'))\n",
        "    else:\n",
        "        # Handle error\n",
        "        products = []\n",
        "    # Append the function's response to the messages\n",
        "    messages.append(\n",
        "        {\n",
        "            \"role\": \"tool\",\n",
        "            \"content\": json.dumps(products),\n",
        "            \"tool_call_id\": response_message.tool_calls[0].id,\n",
        "        }\n",
        "    )\n",
        "    # Get a new response from GPT so it can format the function's response into natural language\n",
        "    # Asking GPT to summarize response again in a user-friendly way\n",
        "    second_response = client.chat.completions.create(model=\"gpt-3.5-turbo-0613\",\n",
        "    messages=messages)\n",
        "    return second_response.choices[0].message.content\n",
        "\n",
        "\n",
        "print(run(\"I need the top 3 products where the price is greater than 2.00\"))"
      ],
      "metadata": {
        "colab": {
          "base_uri": "https://localhost:8080/"
        },
        "id": "dGTjxJ6h1zm1",
        "outputId": "226cc64b-3096-4c1a-b276-111d2bb1d6f6"
      },
      "execution_count": null,
      "outputs": [
        {
          "output_type": "stream",
          "name": "stdout",
          "text": [
            "SELECT * FROM products WHERE price > 2.00 ORDER BY price DESC LIMIT 3\n",
            "The top 3 products with a price greater than $2.00 are:\n",
            "\n",
            "1. Tape - Price: $5.99\n",
            "2. Pen - Price: $2.99\n",
            "3. Pencil - Price: $1.99\n"
          ]
        }
      ]
    }
  ]
}